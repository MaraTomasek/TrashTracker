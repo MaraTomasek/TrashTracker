{
 "cells": [
  {
   "cell_type": "markdown",
   "metadata": {},
   "source": [
    "[Datensatz](https://www.kreis-reutlingen.de/de/Service-Verwaltung/Buergerservice-A-Z/Abfallentsorgung/Abfalltermine-2017)"
   ]
  },
  {
   "cell_type": "code",
   "execution_count": 1,
   "metadata": {},
   "outputs": [],
   "source": [
    "import pandas as pd\n",
    "import datetime as dt"
   ]
  },
  {
   "cell_type": "code",
   "execution_count": 2,
   "metadata": {},
   "outputs": [],
   "source": [
    "def next_day(day):\n",
    "    '''\n",
    "    input   : day : datetime : datetime from datetime module\n",
    "    returns :     : datetime : date of the day after\n",
    "    '''\n",
    "    return day + dt.timedelta(days=1)"
   ]
  },
  {
   "cell_type": "code",
   "execution_count": 3,
   "metadata": {},
   "outputs": [
    {
     "name": "stdout",
     "output_type": "stream",
     "text": [
      "Morgen nichts\n"
     ]
    }
   ],
   "source": [
    "tomorrow    = next_day(dt.date.today())\n",
    "dates       = pd.read_csv('data.csv', delimiter=';', encoding='latin1')\n",
    "trash_types = list(dates.columns)\n",
    "date_trash  = [(j, trash_types[i]) \\\n",
    "                   for i in range(len(trash_types)) if trash_types[i] != 'Problemstoffmobil' \\\n",
    "                       for j in list(dates[trash_types[i]].dropna())]\n",
    "\n",
    "# Tomorrow\n",
    "trash = []\n",
    "for i in range(len(date_trash)):\n",
    "    day_str = tomorrow.strftime('%d.%m.%Y')\n",
    "    \n",
    "    if day_str == date_trash[i][0]:\n",
    "        trash.append(date_trash[i][1])\n",
    "        \n",
    "print(f\"Morgen {'nichts' if not len(trash) else trash}\")\n",
    "# Further processing to LED on Arduino"
   ]
  }
 ],
 "metadata": {
  "kernelspec": {
   "display_name": "Python 3",
   "language": "python",
   "name": "python3"
  },
  "language_info": {
   "codemirror_mode": {
    "name": "ipython",
    "version": 3
   },
   "file_extension": ".py",
   "mimetype": "text/x-python",
   "name": "python",
   "nbconvert_exporter": "python",
   "pygments_lexer": "ipython3",
   "version": "3.8.2"
  }
 },
 "nbformat": 4,
 "nbformat_minor": 4
}
