{
 "cells": [
  {
   "cell_type": "code",
   "execution_count": 45,
   "metadata": {},
   "outputs": [],
   "source": [
    "import pandas as pd\n",
    "import datetime"
   ]
  },
  {
   "cell_type": "code",
   "execution_count": 51,
   "metadata": {},
   "outputs": [],
   "source": [
    "def next_day(day):\n",
    "    '''\n",
    "    input   : day : datetime : datetime from datetime module\n",
    "    returns :     : datetime : date of the day after\n",
    "    '''\n",
    "    return day + datetime.timedelta(days=1)"
   ]
  },
  {
   "cell_type": "code",
   "execution_count": 66,
   "metadata": {},
   "outputs": [
    {
     "name": "stdout",
     "output_type": "stream",
     "text": [
      "Morgen nichts\n"
     ]
    }
   ],
   "source": [
    "dates       = pd.read_csv('data.csv', delimiter=';', encoding='latin1')\n",
    "trash_types = list(dates.columns)\n",
    "date_trash  = {j : trash_types[i] for i in range(len(trash_types)) for j in list(dates[trash_types[i]].dropna())}\n",
    "day         = pd.to_datetime('today')\n",
    "\n",
    "# Tomorrow\n",
    "if next_day(day).strftime('%d.%m.%Y') in date_trash:\n",
    "    print(f'Morgen {date_trash[day_str]}')\n",
    "else:\n",
    "    print('Morgen nichts')"
   ]
  }
 ],
 "metadata": {
  "kernelspec": {
   "display_name": "Python 3",
   "language": "python",
   "name": "python3"
  },
  "language_info": {
   "codemirror_mode": {
    "name": "ipython",
    "version": 3
   },
   "file_extension": ".py",
   "mimetype": "text/x-python",
   "name": "python",
   "nbconvert_exporter": "python",
   "pygments_lexer": "ipython3",
   "version": "3.8.2"
  }
 },
 "nbformat": 4,
 "nbformat_minor": 4
}
