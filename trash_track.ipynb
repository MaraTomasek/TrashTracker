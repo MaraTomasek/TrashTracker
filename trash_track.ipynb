{
 "cells": [
  {
   "cell_type": "code",
   "execution_count": 1,
   "metadata": {},
   "outputs": [],
   "source": [
    "import pandas   as pd\n",
    "import datetime as dt"
   ]
  },
  {
   "cell_type": "code",
   "execution_count": 3,
   "metadata": {},
   "outputs": [
    {
     "name": "stdout",
     "output_type": "stream",
     "text": [
      "Morgen nichts\n"
     ]
    }
   ],
   "source": [
    "tomorrow      = dt.date.today() + dt.timedelta(days=1)\n",
    "dates_df      = pd.read_csv('data.csv', delimiter=';', encoding='latin1')\n",
    "trash_types   = list(dates_df.columns)\n",
    "date_and_type = [(j, trash_types[i]) \\\n",
    "                     for i in range(len(trash_types)) \\\n",
    "                         if trash_types[i] != 'Problemstoffmobil' \\\n",
    "                             for j in list(dates_df[trash_types[i]].dropna())]\n",
    "\n",
    "trash_due     = [date_and_type[i][1] \\\n",
    "                     for i in range(len(date_and_type)) \\\n",
    "                         if tomorrow.strftime('%d.%m.%Y') == date_and_type[i][0]]\n",
    "        \n",
    "print(f\"Morgen {'nichts' if not len(trash_due) else trash_due}\")\n",
    "# Further processing to LED on Arduino"
   ]
  }
 ],
 "metadata": {
  "kernelspec": {
   "display_name": "Python 3",
   "language": "python",
   "name": "python3"
  },
  "language_info": {
   "codemirror_mode": {
    "name": "ipython",
    "version": 3
   },
   "file_extension": ".py",
   "mimetype": "text/x-python",
   "name": "python",
   "nbconvert_exporter": "python",
   "pygments_lexer": "ipython3",
   "version": "3.8.2"
  }
 },
 "nbformat": 4,
 "nbformat_minor": 4
}
